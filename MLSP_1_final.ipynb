{
  "nbformat": 4,
  "nbformat_minor": 0,
  "metadata": {
    "colab": {
      "provenance": [],
      "collapsed_sections": []
    },
    "kernelspec": {
      "name": "python3",
      "display_name": "Python 3"
    },
    "language_info": {
      "name": "python"
    },
    "accelerator": "GPU"
  },
  "cells": [
    {
      "cell_type": "code",
      "execution_count": null,
      "metadata": {
        "id": "Dr-0joNdZTnQ"
      },
      "outputs": [],
      "source": [
        "!pip install pandas\n",
        "!pip install librosa\n",
        "!pip install plotly\n",
        "!pip install matplotlib"
      ]
    },
    {
      "cell_type": "code",
      "source": [
        "import os\n",
        "import time\n",
        "import librosa\n",
        "import zipfile\n",
        "import numpy as np\n",
        "import pandas as pd\n",
        "import librosa.display\n",
        "import IPython.display\n",
        "import matplotlib.pyplot as plt\n",
        "import plotly.graph_objects as go\n",
        "from PIL import Image"
      ],
      "metadata": {
        "id": "ATxgnI1MZv6m"
      },
      "execution_count": 2,
      "outputs": []
    },
    {
      "cell_type": "code",
      "source": [
        "import tensorflow as tf\n",
        "from tensorflow import keras\n",
        "from sklearn.model_selection import train_test_split"
      ],
      "metadata": {
        "id": "HxoRAPaS9wW0"
      },
      "execution_count": 3,
      "outputs": []
    },
    {
      "cell_type": "code",
      "source": [
        "from tensorflow.keras.models import Sequential\n",
        "from tensorflow.keras.layers import Dense, Dropout, Activation, Flatten\n",
        "from tensorflow.keras.layers import Conv2D, MaxPooling2D, AveragePooling2D\n",
        "from keras import optimizers"
      ],
      "metadata": {
        "id": "bcmoC6qD9xyw"
      },
      "execution_count": 4,
      "outputs": []
    },
    {
      "cell_type": "code",
      "source": [
        "from google.colab import drive\n",
        "drive.mount('/content/drive')"
      ],
      "metadata": {
        "id": "EmUlEtKDeeHc",
        "colab": {
          "base_uri": "https://localhost:8080/"
        },
        "outputId": "91fbced8-7e04-45bd-ac40-7da270377515"
      },
      "execution_count": 5,
      "outputs": [
        {
          "output_type": "stream",
          "name": "stdout",
          "text": [
            "Mounted at /content/drive\n"
          ]
        }
      ]
    },
    {
      "cell_type": "code",
      "source": [
        "path_train_data='/content/train'\n",
        "path_annotations_labels='/content/drive/MyDrive/MLSP-1/annotations with labels.csv'\n",
        "path_nn_save='/content/drive/MyDrive/MLSP-1/model_nn/'\n",
        "path_cnn_save='/content/drive/MyDrive/MLSP-1/model_cnn/'"
      ],
      "metadata": {
        "id": "qGreQzezM9e3"
      },
      "execution_count": 6,
      "outputs": []
    },
    {
      "cell_type": "markdown",
      "source": [
        "#Loading Data"
      ],
      "metadata": {
        "id": "rSjyTmxgj2EO"
      }
    },
    {
      "cell_type": "code",
      "source": [
        "!unzip /content/drive/MyDrive/MLSP-1/train.zip"
      ],
      "metadata": {
        "id": "LV5ciy29f34h"
      },
      "execution_count": null,
      "outputs": []
    },
    {
      "cell_type": "code",
      "source": [
        "data_arr=np.loadtxt(path_annotations_labels,delimiter=\",\",dtype=str)"
      ],
      "metadata": {
        "id": "sBLrYDMXy3C0"
      },
      "execution_count": 8,
      "outputs": []
    },
    {
      "cell_type": "code",
      "source": [
        "#example of a sample of the training data\n",
        "data_arr[650]"
      ],
      "metadata": {
        "colab": {
          "base_uri": "https://localhost:8080/"
        },
        "id": "HacputdCzBQQ",
        "outputId": "e1cebab5-ac2d-4b24-f40a-6db5fe5370f3"
      },
      "execution_count": 9,
      "outputs": [
        {
          "output_type": "execute_result",
          "data": {
            "text/plain": [
              "array(['649', '64913717.npy', '5', 'train'], dtype='<U12')"
            ]
          },
          "metadata": {},
          "execution_count": 9
        }
      ]
    },
    {
      "cell_type": "code",
      "source": [
        "#create array containing labels corresponding to fnames of data\n",
        "labels={}\n",
        "data_total={}\n",
        "for i in range(1,1001):\n",
        "  labels[i]=data_arr[i][2].astype(int)\n",
        "  data_total[data_arr[i][1]]=labels[i]\n",
        "#print(data_total['999433.npy'])"
      ],
      "metadata": {
        "id": "jWgmMsqU076E"
      },
      "execution_count": 10,
      "outputs": []
    },
    {
      "cell_type": "code",
      "source": [
        "path_annotations = \"/content/drive/MyDrive/MLSP-1/annotations.csv\"\n",
        "dataset_ann_df = pd.read_csv(path_annotations)\n"
      ],
      "metadata": {
        "id": "cObsjBOKscFn"
      },
      "execution_count": 11,
      "outputs": []
    },
    {
      "cell_type": "code",
      "source": [
        "#load the 2D numpy array corresponding to a melspectrogram\n",
        "import pathlib\n",
        "train_data = {}\n",
        "for fname in os.listdir(path_train_data):\n",
        "    train_data[fname]=(np.load(os.path.join(path_train_data, fname)))\n"
      ],
      "metadata": {
        "id": "g3WlAcrh15ld"
      },
      "execution_count": 12,
      "outputs": []
    },
    {
      "cell_type": "markdown",
      "source": [
        "#Data Analysis"
      ],
      "metadata": {
        "id": "S8CYVbNnxbfT"
      }
    },
    {
      "cell_type": "code",
      "source": [
        "dataset_ann_df.groupby('label').count()      #equally distributed test data"
      ],
      "metadata": {
        "colab": {
          "base_uri": "https://localhost:8080/",
          "height": 394
        },
        "id": "ZAwy3m0Yxb0G",
        "outputId": "c3d4ca89-7e6d-46dd-aded-476f33dffb77"
      },
      "execution_count": 13,
      "outputs": [
        {
          "output_type": "execute_result",
          "data": {
            "text/plain": [
              "                                       Unnamed: 0  fname  split\n",
              "label                                                          \n",
              "Bark                                          100    100    100\n",
              "Crying_and_sobbing                            100    100    100\n",
              "Doorbell                                      100    100    100\n",
              "Knock                                         100    100    100\n",
              "Meow                                          100    100    100\n",
              "Microwave_oven                                100    100    100\n",
              "Shatter                                       100    100    100\n",
              "Siren                                         100    100    100\n",
              "Vehicle_horn_and_car_horn_and_honking         100    100    100\n",
              "Walk_and_footsteps                            100    100    100"
            ],
            "text/html": [
              "\n",
              "  <div id=\"df-e40d0e09-677a-4b3f-bb79-f44785074258\">\n",
              "    <div class=\"colab-df-container\">\n",
              "      <div>\n",
              "<style scoped>\n",
              "    .dataframe tbody tr th:only-of-type {\n",
              "        vertical-align: middle;\n",
              "    }\n",
              "\n",
              "    .dataframe tbody tr th {\n",
              "        vertical-align: top;\n",
              "    }\n",
              "\n",
              "    .dataframe thead th {\n",
              "        text-align: right;\n",
              "    }\n",
              "</style>\n",
              "<table border=\"1\" class=\"dataframe\">\n",
              "  <thead>\n",
              "    <tr style=\"text-align: right;\">\n",
              "      <th></th>\n",
              "      <th>Unnamed: 0</th>\n",
              "      <th>fname</th>\n",
              "      <th>split</th>\n",
              "    </tr>\n",
              "    <tr>\n",
              "      <th>label</th>\n",
              "      <th></th>\n",
              "      <th></th>\n",
              "      <th></th>\n",
              "    </tr>\n",
              "  </thead>\n",
              "  <tbody>\n",
              "    <tr>\n",
              "      <th>Bark</th>\n",
              "      <td>100</td>\n",
              "      <td>100</td>\n",
              "      <td>100</td>\n",
              "    </tr>\n",
              "    <tr>\n",
              "      <th>Crying_and_sobbing</th>\n",
              "      <td>100</td>\n",
              "      <td>100</td>\n",
              "      <td>100</td>\n",
              "    </tr>\n",
              "    <tr>\n",
              "      <th>Doorbell</th>\n",
              "      <td>100</td>\n",
              "      <td>100</td>\n",
              "      <td>100</td>\n",
              "    </tr>\n",
              "    <tr>\n",
              "      <th>Knock</th>\n",
              "      <td>100</td>\n",
              "      <td>100</td>\n",
              "      <td>100</td>\n",
              "    </tr>\n",
              "    <tr>\n",
              "      <th>Meow</th>\n",
              "      <td>100</td>\n",
              "      <td>100</td>\n",
              "      <td>100</td>\n",
              "    </tr>\n",
              "    <tr>\n",
              "      <th>Microwave_oven</th>\n",
              "      <td>100</td>\n",
              "      <td>100</td>\n",
              "      <td>100</td>\n",
              "    </tr>\n",
              "    <tr>\n",
              "      <th>Shatter</th>\n",
              "      <td>100</td>\n",
              "      <td>100</td>\n",
              "      <td>100</td>\n",
              "    </tr>\n",
              "    <tr>\n",
              "      <th>Siren</th>\n",
              "      <td>100</td>\n",
              "      <td>100</td>\n",
              "      <td>100</td>\n",
              "    </tr>\n",
              "    <tr>\n",
              "      <th>Vehicle_horn_and_car_horn_and_honking</th>\n",
              "      <td>100</td>\n",
              "      <td>100</td>\n",
              "      <td>100</td>\n",
              "    </tr>\n",
              "    <tr>\n",
              "      <th>Walk_and_footsteps</th>\n",
              "      <td>100</td>\n",
              "      <td>100</td>\n",
              "      <td>100</td>\n",
              "    </tr>\n",
              "  </tbody>\n",
              "</table>\n",
              "</div>\n",
              "      <button class=\"colab-df-convert\" onclick=\"convertToInteractive('df-e40d0e09-677a-4b3f-bb79-f44785074258')\"\n",
              "              title=\"Convert this dataframe to an interactive table.\"\n",
              "              style=\"display:none;\">\n",
              "        \n",
              "  <svg xmlns=\"http://www.w3.org/2000/svg\" height=\"24px\"viewBox=\"0 0 24 24\"\n",
              "       width=\"24px\">\n",
              "    <path d=\"M0 0h24v24H0V0z\" fill=\"none\"/>\n",
              "    <path d=\"M18.56 5.44l.94 2.06.94-2.06 2.06-.94-2.06-.94-.94-2.06-.94 2.06-2.06.94zm-11 1L8.5 8.5l.94-2.06 2.06-.94-2.06-.94L8.5 2.5l-.94 2.06-2.06.94zm10 10l.94 2.06.94-2.06 2.06-.94-2.06-.94-.94-2.06-.94 2.06-2.06.94z\"/><path d=\"M17.41 7.96l-1.37-1.37c-.4-.4-.92-.59-1.43-.59-.52 0-1.04.2-1.43.59L10.3 9.45l-7.72 7.72c-.78.78-.78 2.05 0 2.83L4 21.41c.39.39.9.59 1.41.59.51 0 1.02-.2 1.41-.59l7.78-7.78 2.81-2.81c.8-.78.8-2.07 0-2.86zM5.41 20L4 18.59l7.72-7.72 1.47 1.35L5.41 20z\"/>\n",
              "  </svg>\n",
              "      </button>\n",
              "      \n",
              "  <style>\n",
              "    .colab-df-container {\n",
              "      display:flex;\n",
              "      flex-wrap:wrap;\n",
              "      gap: 12px;\n",
              "    }\n",
              "\n",
              "    .colab-df-convert {\n",
              "      background-color: #E8F0FE;\n",
              "      border: none;\n",
              "      border-radius: 50%;\n",
              "      cursor: pointer;\n",
              "      display: none;\n",
              "      fill: #1967D2;\n",
              "      height: 32px;\n",
              "      padding: 0 0 0 0;\n",
              "      width: 32px;\n",
              "    }\n",
              "\n",
              "    .colab-df-convert:hover {\n",
              "      background-color: #E2EBFA;\n",
              "      box-shadow: 0px 1px 2px rgba(60, 64, 67, 0.3), 0px 1px 3px 1px rgba(60, 64, 67, 0.15);\n",
              "      fill: #174EA6;\n",
              "    }\n",
              "\n",
              "    [theme=dark] .colab-df-convert {\n",
              "      background-color: #3B4455;\n",
              "      fill: #D2E3FC;\n",
              "    }\n",
              "\n",
              "    [theme=dark] .colab-df-convert:hover {\n",
              "      background-color: #434B5C;\n",
              "      box-shadow: 0px 1px 3px 1px rgba(0, 0, 0, 0.15);\n",
              "      filter: drop-shadow(0px 1px 2px rgba(0, 0, 0, 0.3));\n",
              "      fill: #FFFFFF;\n",
              "    }\n",
              "  </style>\n",
              "\n",
              "      <script>\n",
              "        const buttonEl =\n",
              "          document.querySelector('#df-e40d0e09-677a-4b3f-bb79-f44785074258 button.colab-df-convert');\n",
              "        buttonEl.style.display =\n",
              "          google.colab.kernel.accessAllowed ? 'block' : 'none';\n",
              "\n",
              "        async function convertToInteractive(key) {\n",
              "          const element = document.querySelector('#df-e40d0e09-677a-4b3f-bb79-f44785074258');\n",
              "          const dataTable =\n",
              "            await google.colab.kernel.invokeFunction('convertToInteractive',\n",
              "                                                     [key], {});\n",
              "          if (!dataTable) return;\n",
              "\n",
              "          const docLinkHtml = 'Like what you see? Visit the ' +\n",
              "            '<a target=\"_blank\" href=https://colab.research.google.com/notebooks/data_table.ipynb>data table notebook</a>'\n",
              "            + ' to learn more about interactive tables.';\n",
              "          element.innerHTML = '';\n",
              "          dataTable['output_type'] = 'display_data';\n",
              "          await google.colab.output.renderOutput(dataTable, element);\n",
              "          const docLink = document.createElement('div');\n",
              "          docLink.innerHTML = docLinkHtml;\n",
              "          element.appendChild(docLink);\n",
              "        }\n",
              "      </script>\n",
              "    </div>\n",
              "  </div>\n",
              "  "
            ]
          },
          "metadata": {},
          "execution_count": 13
        }
      ]
    },
    {
      "cell_type": "code",
      "source": [
        "#dataset_ann_df.head()\n",
        "fnames=[]\n",
        "#labels=[]\n",
        "fnames=dataset_ann_df['fname']\n"
      ],
      "metadata": {
        "id": "plvBmofLhoYk"
      },
      "execution_count": 14,
      "outputs": []
    },
    {
      "cell_type": "code",
      "source": [
        "#create lists containing the dimensions of the spectrogram data\n",
        "dim_0=[]\n",
        "dim_1=[]\n",
        "dim_2=[]\n",
        "for fname in os.listdir(path_train_data):\n",
        "    dim_0.append(train_data[fname].shape[0])\n",
        "    dim_1.append(train_data[fname].shape[1])\n",
        "    dim_2.append(train_data[fname].shape[2])\n",
        "\n"
      ],
      "metadata": {
        "id": "z04uoApnC52_"
      },
      "execution_count": 15,
      "outputs": []
    },
    {
      "cell_type": "code",
      "source": [
        "#print the statistics of the dimensions\n",
        "dim_0_df = pd.DataFrame(dim_0)\n",
        "print(dim_0_df.describe())\n",
        "\n",
        "dim_1_df = pd.DataFrame(dim_1)\n",
        "print(dim_1_df.describe())\n",
        "\n",
        "dim_2_df = pd.DataFrame(dim_2)\n",
        "print(dim_2_df.describe())                          #note the mean=593 and std=599, therefore I choose to clip all the 3rd dimensions at 1024"
      ],
      "metadata": {
        "colab": {
          "base_uri": "https://localhost:8080/"
        },
        "id": "aKg2MHyDYT2S",
        "outputId": "e2c0be59-acad-438b-9fba-f08502261db6"
      },
      "execution_count": 16,
      "outputs": [
        {
          "output_type": "stream",
          "name": "stdout",
          "text": [
            "            0\n",
            "count  1000.0\n",
            "mean      1.0\n",
            "std       0.0\n",
            "min       1.0\n",
            "25%       1.0\n",
            "50%       1.0\n",
            "75%       1.0\n",
            "max       1.0\n",
            "            0\n",
            "count  1000.0\n",
            "mean    128.0\n",
            "std       0.0\n",
            "min     128.0\n",
            "25%     128.0\n",
            "50%     128.0\n",
            "75%     128.0\n",
            "max     128.0\n",
            "                 0\n",
            "count  1000.000000\n",
            "mean    593.504000\n",
            "std     599.390755\n",
            "min      29.000000\n",
            "25%     150.000000\n",
            "50%     335.000000\n",
            "75%     859.000000\n",
            "max    2584.000000\n"
          ]
        }
      ]
    },
    {
      "cell_type": "code",
      "source": [
        "#example of a data sample\n",
        "data_ex=np.load('/content/train/1207817.npy')\n",
        "#print(data_ex[0])\n",
        "temp=data_ex[0]"
      ],
      "metadata": {
        "id": "kiO9S8DYy7DF"
      },
      "execution_count": 17,
      "outputs": []
    },
    {
      "cell_type": "code",
      "source": [
        "#resizing the 3rd dimension to 1024 for all samples\n",
        "resized_data={}\n",
        "for fname in os.listdir(path_train_data):\n",
        "    temp=train_data[fname][0]\n",
        "    temp=np.array(temp)\n",
        "    tup=temp.shape\n",
        "    #print(tup[1])\n",
        "    if(tup[1]>1024):                                        #clip the 3rd dimension if greater than 1024\n",
        "      resized_data[fname]=temp[:,0:1024]\n",
        "    else:\n",
        "      times=int(1024/tup[1])+1\n",
        "      temp_1=temp                                           #repeat the 3rd dimension if less than 1024, upto 1024\n",
        "      for i in range(times):\n",
        "        temp_1=np.concatenate([temp_1,temp],axis=1)\n",
        "      resized_data[fname]=temp_1[:,0:1024]\n",
        "    #print(resized_data[fname].shape)"
      ],
      "metadata": {
        "id": "5kUCjirQRzYn"
      },
      "execution_count": 18,
      "outputs": []
    },
    {
      "cell_type": "code",
      "source": [
        "'''\n",
        "else:\n",
        "      n=1024-tup[1]\n",
        "      temp_1=np.zeros((128,n))                                   #pad the 3rd dimension with 0 if less than 1024, upto 1024\n",
        "      temp_1=np.concatenate([temp,temp_1],axis=1)\n",
        "      resized_data[fname]=temp_1[:,0:1024]\n",
        "'''"
      ],
      "metadata": {
        "id": "GLYRlGXF-Krv",
        "colab": {
          "base_uri": "https://localhost:8080/",
          "height": 53
        },
        "outputId": "5a06b9ca-75f9-4c1f-abbf-17a7b1e7a0d1"
      },
      "execution_count": 19,
      "outputs": [
        {
          "output_type": "execute_result",
          "data": {
            "text/plain": [
              "'\\nelse:\\n      n=1024-tup[1]\\n      temp_1=np.zeros((128,n))                                   #pad the 3rd dimension with 0 if less than 1024, upto 1024\\n      temp_1=np.concatenate([temp,temp_1],axis=1)\\n      resized_data[fname]=temp_1[:,0:1024]\\n'"
            ],
            "application/vnd.google.colaboratory.intrinsic+json": {
              "type": "string"
            }
          },
          "metadata": {},
          "execution_count": 19
        }
      ]
    },
    {
      "cell_type": "code",
      "source": [
        "#preprocessing using MinMaxScaler\n",
        "\n",
        "from sklearn.preprocessing import MinMaxScaler\n",
        "scaler = MinMaxScaler(feature_range=(0, 1))\n",
        "\n",
        "normalized_train_data={}\n",
        "for fname in os.listdir('/content/train'):\n",
        "  scaler.fit(resized_data[fname])\n",
        "  normalized_train_data[fname] = scaler.transform(resized_data[fname])\n",
        "  #print(normalized_train_data[fname].shape)\n",
        "  #print(np.amax(normalized_train_data[fname]))"
      ],
      "metadata": {
        "id": "bKwsNC1jrM9i"
      },
      "execution_count": 20,
      "outputs": []
    },
    {
      "cell_type": "code",
      "source": [
        "#create the dataset\n",
        "\n",
        "int_index=0\n",
        "dataset=[]\n",
        "labels=[]\n",
        "for i in os.listdir('/content/train'):\n",
        "  #print(i)\n",
        "  dataset.append(normalized_train_data[i])\n",
        "  labels.append(data_total[i])\n",
        "  int_index=int_index+1\n",
        "dataset=np.array(dataset)\n",
        "\n",
        "y=keras.utils.to_categorical(labels, num_classes=10, dtype='float32')       #one-hot vector for the labels\n",
        "y=np.array(y)\n",
        "#print(dataset[0],labels[0])\n",
        "#print(normalized_train_data['57112910.npy'],data_total['57112910.npy'])"
      ],
      "metadata": {
        "id": "18qgBJNDj-e-"
      },
      "execution_count": 21,
      "outputs": []
    },
    {
      "cell_type": "code",
      "source": [
        "#example of a spectrogram selected randomly\n",
        "import random\n",
        "N=random.randint(0,1000)\n",
        "librosa.display.specshow(dataset[N], sr=2048, hop_length=512, x_axis='time',y_axis='mel')\n",
        "print(dataset[N].shape)\n",
        "plt.colorbar(format='%+2.0f dB')\n",
        "plt.title('Mel Spectrogram for label '+ str(labels[N]))"
      ],
      "metadata": {
        "colab": {
          "base_uri": "https://localhost:8080/",
          "height": 330
        },
        "id": "Orqakxc4kgTZ",
        "outputId": "a2fdf779-af4b-4208-92d9-295aef96dde2"
      },
      "execution_count": 22,
      "outputs": [
        {
          "output_type": "stream",
          "name": "stdout",
          "text": [
            "(128, 1024)\n"
          ]
        },
        {
          "output_type": "execute_result",
          "data": {
            "text/plain": [
              "Text(0.5, 1.0, 'Mel Spectrogram for label 4')"
            ]
          },
          "metadata": {},
          "execution_count": 22
        },
        {
          "output_type": "display_data",
          "data": {
            "text/plain": [
              "<Figure size 432x288 with 2 Axes>"
            ],
            "image/png": "[encoded data removed]"
          },
          "metadata": {
            "needs_background": "light"
          }
        }
      ]
    },
    {
      "cell_type": "markdown",
      "source": [
        "#Model-1: Dense Neural Network"
      ],
      "metadata": {
        "id": "VsO8BRGLfzIR"
      }
    },
    {
      "cell_type": "code",
      "source": [
        "#X_train, X_test, y_train, y_test = train_test_split(dataset, y, test_size=0.20, random_state=1150)\n",
        "\n",
        "#print(X_train.shape)\n",
        "#print(y_test[0])\n",
        "#Y_train=tf.one_hot(y_train,depth=10)\n",
        "#Y_train[0]"
      ],
      "metadata": {
        "id": "Y371AK1Ret0Z"
      },
      "execution_count": 96,
      "outputs": []
    },
    {
      "cell_type": "code",
      "source": [
        "checkpoint_path = path_nn_save\n",
        "checkpoint_dir = os.path.dirname(checkpoint_path)\n",
        "checkpoint = tf.keras.callbacks.ModelCheckpoint(filepath=checkpoint_dir, monitor=\"val_loss\", save_best_only=True,\n",
        "                                                 save_weights_only=False, verbose=2,mode='min')"
      ],
      "metadata": {
        "id": "U_gVvg40M3LV"
      },
      "execution_count": 68,
      "outputs": []
    },
    {
      "cell_type": "code",
      "source": [
        "# NN\n",
        "\n",
        "model_1 = tf.keras.Sequential([\n",
        "    tf.keras.layers.Flatten(input_shape=(128, 1024)),\n",
        "    tf.keras.layers.Dense(1024, activation='relu'),\n",
        "    tf.keras.layers.Dense(512, activation='relu'),\n",
        "    tf.keras.layers.Dense(128, activation='relu'),\n",
        "    tf.keras.layers.Dense(64, activation='relu'),\n",
        "    tf.keras.layers.Dense(10,activation='softmax')\n",
        "])"
      ],
      "metadata": {
        "id": "aET3pIVjp5zV"
      },
      "execution_count": 69,
      "outputs": []
    },
    {
      "cell_type": "code",
      "source": [
        "model_1.compile(optimizer='adam', loss=tf.keras.losses.CategoricalCrossentropy(from_logits=True), metrics=['accuracy'])"
      ],
      "metadata": {
        "id": "jnvFxQb7ToEb"
      },
      "execution_count": 70,
      "outputs": []
    },
    {
      "cell_type": "code",
      "source": [
        "history=model_1.fit(dataset, y, epochs=16, validation_split=0.2, callbacks=[checkpoint])"
      ],
      "metadata": {
        "id": "zoEvC1C_qQs1",
        "colab": {
          "base_uri": "https://localhost:8080/"
        },
        "outputId": "6f01f9fc-9bed-49cc-e1ee-151ad0a9d6ab"
      },
      "execution_count": 71,
      "outputs": [
        {
          "output_type": "stream",
          "name": "stdout",
          "text": [
            "Epoch 1/16\n"
          ]
        },
        {
          "output_type": "stream",
          "name": "stderr",
          "text": [
            "/usr/local/lib/python3.7/dist-packages/tensorflow/python/util/dispatch.py:1082: UserWarning: \"`categorical_crossentropy` received `from_logits=True`, but the `output` argument was produced by a sigmoid or softmax activation and thus does not represent logits. Was this intended?\"\n",
            "  return dispatch_target(*args, **kwargs)\n"
          ]
        },
        {
          "output_type": "stream",
          "name": "stdout",
          "text": [
            "25/25 [==============================] - ETA: 0s - loss: 22.5014 - accuracy: 0.1325\n",
            "Epoch 1: val_loss improved from inf to 13.85060, saving model to /content/drive/MyDrive/MLSP-1/model_nn\n",
            "25/25 [==============================] - 10s 402ms/step - loss: 22.5014 - accuracy: 0.1325 - val_loss: 13.8506 - val_accuracy: 0.1150\n",
            "Epoch 2/16\n",
            "25/25 [==============================] - ETA: 0s - loss: 5.3429 - accuracy: 0.2525\n",
            "Epoch 2: val_loss improved from 13.85060 to 2.74530, saving model to /content/drive/MyDrive/MLSP-1/model_nn\n",
            "25/25 [==============================] - 10s 405ms/step - loss: 5.3429 - accuracy: 0.2525 - val_loss: 2.7453 - val_accuracy: 0.3900\n",
            "Epoch 3/16\n",
            "25/25 [==============================] - ETA: 0s - loss: 2.0801 - accuracy: 0.4350\n",
            "Epoch 3: val_loss improved from 2.74530 to 1.64908, saving model to /content/drive/MyDrive/MLSP-1/model_nn\n",
            "25/25 [==============================] - 10s 397ms/step - loss: 2.0801 - accuracy: 0.4350 - val_loss: 1.6491 - val_accuracy: 0.4800\n",
            "Epoch 4/16\n",
            "25/25 [==============================] - ETA: 0s - loss: 1.1509 - accuracy: 0.6150\n",
            "Epoch 4: val_loss improved from 1.64908 to 1.12164, saving model to /content/drive/MyDrive/MLSP-1/model_nn\n",
            "25/25 [==============================] - 9s 394ms/step - loss: 1.1509 - accuracy: 0.6150 - val_loss: 1.1216 - val_accuracy: 0.6550\n",
            "Epoch 5/16\n",
            "25/25 [==============================] - ETA: 0s - loss: 0.9151 - accuracy: 0.7113\n",
            "Epoch 5: val_loss improved from 1.12164 to 1.07044, saving model to /content/drive/MyDrive/MLSP-1/model_nn\n",
            "25/25 [==============================] - 9s 377ms/step - loss: 0.9151 - accuracy: 0.7113 - val_loss: 1.0704 - val_accuracy: 0.6950\n",
            "Epoch 6/16\n",
            "25/25 [==============================] - ETA: 0s - loss: 0.6134 - accuracy: 0.8125\n",
            "Epoch 6: val_loss did not improve from 1.07044\n",
            "25/25 [==============================] - 1s 42ms/step - loss: 0.6134 - accuracy: 0.8125 - val_loss: 1.1536 - val_accuracy: 0.7150\n",
            "Epoch 7/16\n",
            "25/25 [==============================] - ETA: 0s - loss: 0.4969 - accuracy: 0.8475\n",
            "Epoch 7: val_loss improved from 1.07044 to 0.98393, saving model to /content/drive/MyDrive/MLSP-1/model_nn\n",
            "25/25 [==============================] - 9s 362ms/step - loss: 0.4969 - accuracy: 0.8475 - val_loss: 0.9839 - val_accuracy: 0.7250\n",
            "Epoch 8/16\n",
            "25/25 [==============================] - ETA: 0s - loss: 0.4040 - accuracy: 0.8788\n",
            "Epoch 8: val_loss did not improve from 0.98393\n",
            "25/25 [==============================] - 1s 41ms/step - loss: 0.4040 - accuracy: 0.8788 - val_loss: 1.1172 - val_accuracy: 0.7300\n",
            "Epoch 9/16\n",
            "25/25 [==============================] - ETA: 0s - loss: 0.6002 - accuracy: 0.8150\n",
            "Epoch 9: val_loss did not improve from 0.98393\n",
            "25/25 [==============================] - 1s 40ms/step - loss: 0.6002 - accuracy: 0.8150 - val_loss: 1.1390 - val_accuracy: 0.7150\n",
            "Epoch 10/16\n",
            "25/25 [==============================] - ETA: 0s - loss: 0.3053 - accuracy: 0.9375\n",
            "Epoch 10: val_loss did not improve from 0.98393\n",
            "25/25 [==============================] - 1s 40ms/step - loss: 0.3053 - accuracy: 0.9375 - val_loss: 1.0747 - val_accuracy: 0.7700\n",
            "Epoch 11/16\n",
            "25/25 [==============================] - ETA: 0s - loss: 0.1493 - accuracy: 0.9775\n",
            "Epoch 11: val_loss improved from 0.98393 to 0.83193, saving model to /content/drive/MyDrive/MLSP-1/model_nn\n",
            "25/25 [==============================] - 9s 376ms/step - loss: 0.1493 - accuracy: 0.9775 - val_loss: 0.8319 - val_accuracy: 0.8050\n",
            "Epoch 12/16\n",
            "25/25 [==============================] - ETA: 0s - loss: 0.1492 - accuracy: 0.9675\n",
            "Epoch 12: val_loss did not improve from 0.83193\n",
            "25/25 [==============================] - 1s 41ms/step - loss: 0.1492 - accuracy: 0.9675 - val_loss: 0.8840 - val_accuracy: 0.7750\n",
            "Epoch 13/16\n",
            "25/25 [==============================] - ETA: 0s - loss: 0.1604 - accuracy: 0.9588\n",
            "Epoch 13: val_loss did not improve from 0.83193\n",
            "25/25 [==============================] - 1s 41ms/step - loss: 0.1604 - accuracy: 0.9588 - val_loss: 1.1677 - val_accuracy: 0.7450\n",
            "Epoch 14/16\n",
            "25/25 [==============================] - ETA: 0s - loss: 0.1341 - accuracy: 0.9712\n",
            "Epoch 14: val_loss did not improve from 0.83193\n",
            "25/25 [==============================] - 1s 43ms/step - loss: 0.1341 - accuracy: 0.9712 - val_loss: 0.8325 - val_accuracy: 0.7850\n",
            "Epoch 15/16\n",
            "25/25 [==============================] - ETA: 0s - loss: 0.1130 - accuracy: 0.9750\n",
            "Epoch 15: val_loss did not improve from 0.83193\n",
            "25/25 [==============================] - 1s 41ms/step - loss: 0.1130 - accuracy: 0.9750 - val_loss: 0.8367 - val_accuracy: 0.7550\n",
            "Epoch 16/16\n",
            "25/25 [==============================] - ETA: 0s - loss: 0.1417 - accuracy: 0.9700\n",
            "Epoch 16: val_loss did not improve from 0.83193\n",
            "25/25 [==============================] - 1s 44ms/step - loss: 0.1417 - accuracy: 0.9700 - val_loss: 1.2483 - val_accuracy: 0.7700\n"
          ]
        }
      ]
    },
    {
      "cell_type": "code",
      "source": [
        "model_1.summary()"
      ],
      "metadata": {
        "colab": {
          "base_uri": "https://localhost:8080/"
        },
        "id": "fOougNK7hYUE",
        "outputId": "8ff5b03e-a39e-4442-dccb-31a1ff717505"
      },
      "execution_count": 76,
      "outputs": [
        {
          "output_type": "stream",
          "name": "stdout",
          "text": [
            "Model: \"sequential_3\"\n",
            "_________________________________________________________________\n",
            " Layer (type)                Output Shape              Param #   \n",
            "=================================================================\n",
            " flatten_3 (Flatten)         (None, 131072)            0         \n",
            "                                                                 \n",
            " dense_11 (Dense)            (None, 1024)              134218752 \n",
            "                                                                 \n",
            " dense_12 (Dense)            (None, 512)               524800    \n",
            "                                                                 \n",
            " dense_13 (Dense)            (None, 128)               65664     \n",
            "                                                                 \n",
            " dense_14 (Dense)            (None, 64)                8256      \n",
            "                                                                 \n",
            " dense_15 (Dense)            (None, 10)                650       \n",
            "                                                                 \n",
            "=================================================================\n",
            "Total params: 134,818,122\n",
            "Trainable params: 134,818,122\n",
            "Non-trainable params: 0\n",
            "_________________________________________________________________\n"
          ]
        }
      ]
    },
    {
      "cell_type": "code",
      "source": [
        "import matplotlib.pyplot as plt\n",
        "acc = history.history['accuracy']\n",
        "val_acc = history.history['val_accuracy']\n",
        "loss = history.history['loss']\n",
        "val_loss = history.history['val_loss']\n",
        "\n",
        "epochs = range(len(acc))\n",
        "\n",
        "plt.plot(epochs, loss, 'r', label='Training Loss')\n",
        "plt.plot(epochs, val_loss, 'b', label='Validation Loss')\n",
        "plt.title('Training and validation accuracy')\n",
        "plt.legend(loc=0)\n",
        "plt.figure()\n",
        "\n",
        "\n",
        "plt.show()"
      ],
      "metadata": {
        "colab": {
          "base_uri": "https://localhost:8080/",
          "height": 298
        },
        "id": "gIMsRZrc_zi7",
        "outputId": "1fedc45c-929c-4f53-f556-bba2d47d5078"
      },
      "execution_count": 77,
      "outputs": [
        {
          "output_type": "display_data",
          "data": {
            "text/plain": [
              "<Figure size 432x288 with 1 Axes>"
            ],
            "image/png": "[encoded data removed]"
          },
          "metadata": {
            "needs_background": "light"
          }
        },
        {
          "output_type": "display_data",
          "data": {
            "text/plain": [
              "<Figure size 432x288 with 0 Axes>"
            ]
          },
          "metadata": {}
        }
      ]
    },
    {
      "cell_type": "markdown",
      "source": [
        "#Model-2: Convolutional Neural Network"
      ],
      "metadata": {
        "id": "YrWGlZfEhesi"
      }
    },
    {
      "cell_type": "code",
      "source": [
        "dataset_cnn=dataset\n",
        "dataset_cnn=dataset_cnn.reshape((1000,128,-1,1))\n",
        "\n",
        "#X_train, X_test, y_train, y_test = train_test_split(dataset_cnn, y, test_size=0.20, random_state=130)\n",
        "#print(X_train.shape)\n",
        "#print(y_test[0])"
      ],
      "metadata": {
        "id": "HQfA3dwwAG8E"
      },
      "execution_count": 57,
      "outputs": []
    },
    {
      "cell_type": "code",
      "source": [
        "checkpoint_path = path_cnn_save\n",
        "checkpoint_dir = os.path.dirname(checkpoint_path)\n",
        "checkpoint = tf.keras.callbacks.ModelCheckpoint(filepath=checkpoint_dir, monitor=\"val_loss\", save_best_only=True,\n",
        "                                                 save_weights_only=False, verbose=2,mode='min')"
      ],
      "metadata": {
        "id": "guCfIWGtmcod"
      },
      "execution_count": 58,
      "outputs": []
    },
    {
      "cell_type": "code",
      "source": [
        "#CNN\n",
        "\n",
        "model = tf.keras.Sequential()\n",
        "\n",
        "model.add(Conv2D(16, (5, 5), input_shape=(128,1024,1), activation='relu'))\n",
        "#print(model.get_layer('conv2d_6'))\n",
        "model.add(MaxPooling2D(pool_size=(2, 2)))\n",
        "#model.add(AveragePooling2D(pool_size=(2, 2)))\n",
        "\n",
        "model.add(Dropout(0.2))\n",
        "\n",
        "\n",
        "model.add(Conv2D(32, (3, 3), activation='relu'))\n",
        "model.add(MaxPooling2D(pool_size=(2, 2)))\n",
        "#model.add(AveragePooling2D(pool_size=(2, 2)))\n",
        "\n",
        "model.add(Dropout(0.2))\n",
        "\n",
        "\n",
        "model.add(Conv2D(64, (3, 3), activation='relu'))\n",
        "model.add(MaxPooling2D(pool_size=(2, 2)))\n",
        "#model.add(AveragePooling2D(pool_size=(2, 2)))\n",
        "#'''\n",
        "model.add(Dropout(0.2))\n",
        "\n",
        "#model.add(Conv2D(64, (3, 3), activation='relu'))\n",
        "#model.add(MaxPooling2D(pool_size=(2, 2)))\n",
        "\n",
        "model.add(Flatten())  # this converts our 3D feature maps to 1D feature vectors\n",
        "model.add(Dense(1024, activation='relu')) \n",
        "model.add(Dense(64, activation='relu'))  \n",
        "\n",
        "model.add(Dense(10, activation='softmax'))"
      ],
      "metadata": {
        "id": "fFVJomAN-FVk"
      },
      "execution_count": 59,
      "outputs": []
    },
    {
      "cell_type": "code",
      "source": [
        "model.compile(optimizer='adam', loss=tf.losses.CategoricalCrossentropy(from_logits=False), metrics=['accuracy'])"
      ],
      "metadata": {
        "id": "HjLtJbTaBrtq"
      },
      "execution_count": 60,
      "outputs": []
    },
    {
      "cell_type": "code",
      "source": [
        "history = model.fit(dataset_cnn, y, epochs=16, validation_split=0.2,callbacks=[checkpoint])"
      ],
      "metadata": {
        "id": "UIf5xgpmB2c3",
        "colab": {
          "base_uri": "https://localhost:8080/"
        },
        "outputId": "59b1e6db-ba5e-4cb2-de82-105f623aac7a"
      },
      "execution_count": 61,
      "outputs": [
        {
          "output_type": "stream",
          "name": "stdout",
          "text": [
            "Epoch 1/16\n",
            "25/25 [==============================] - ETA: 0s - loss: 4.6590 - accuracy: 0.2225\n",
            "Epoch 1: val_loss improved from inf to 2.09063, saving model to /content/drive/MyDrive/MLSP-1/model_cnn\n",
            "25/25 [==============================] - 12s 454ms/step - loss: 4.6590 - accuracy: 0.2225 - val_loss: 2.0906 - val_accuracy: 0.3350\n",
            "Epoch 2/16\n",
            "25/25 [==============================] - ETA: 0s - loss: 1.7664 - accuracy: 0.4013\n",
            "Epoch 2: val_loss improved from 2.09063 to 1.47295, saving model to /content/drive/MyDrive/MLSP-1/model_cnn\n",
            "25/25 [==============================] - 10s 416ms/step - loss: 1.7664 - accuracy: 0.4013 - val_loss: 1.4730 - val_accuracy: 0.5350\n",
            "Epoch 3/16\n",
            "25/25 [==============================] - ETA: 0s - loss: 1.1187 - accuracy: 0.6350\n",
            "Epoch 3: val_loss improved from 1.47295 to 0.96755, saving model to /content/drive/MyDrive/MLSP-1/model_cnn\n",
            "25/25 [==============================] - 10s 416ms/step - loss: 1.1187 - accuracy: 0.6350 - val_loss: 0.9675 - val_accuracy: 0.7100\n",
            "Epoch 4/16\n",
            "25/25 [==============================] - ETA: 0s - loss: 0.7074 - accuracy: 0.7850\n",
            "Epoch 4: val_loss improved from 0.96755 to 0.75583, saving model to /content/drive/MyDrive/MLSP-1/model_cnn\n",
            "25/25 [==============================] - 10s 430ms/step - loss: 0.7074 - accuracy: 0.7850 - val_loss: 0.7558 - val_accuracy: 0.7700\n",
            "Epoch 5/16\n",
            "25/25 [==============================] - ETA: 0s - loss: 0.3849 - accuracy: 0.8800\n",
            "Epoch 5: val_loss did not improve from 0.75583\n",
            "25/25 [==============================] - 3s 109ms/step - loss: 0.3849 - accuracy: 0.8800 - val_loss: 0.7832 - val_accuracy: 0.7900\n",
            "Epoch 6/16\n",
            "25/25 [==============================] - ETA: 0s - loss: 0.2058 - accuracy: 0.9475\n",
            "Epoch 6: val_loss improved from 0.75583 to 0.71193, saving model to /content/drive/MyDrive/MLSP-1/model_cnn\n",
            "25/25 [==============================] - 10s 410ms/step - loss: 0.2058 - accuracy: 0.9475 - val_loss: 0.7119 - val_accuracy: 0.8050\n",
            "Epoch 7/16\n",
            "25/25 [==============================] - ETA: 0s - loss: 0.1973 - accuracy: 0.9287\n",
            "Epoch 7: val_loss did not improve from 0.71193\n",
            "25/25 [==============================] - 3s 108ms/step - loss: 0.1973 - accuracy: 0.9287 - val_loss: 1.0189 - val_accuracy: 0.7450\n",
            "Epoch 8/16\n",
            "25/25 [==============================] - ETA: 0s - loss: 0.0869 - accuracy: 0.9762\n",
            "Epoch 8: val_loss improved from 0.71193 to 0.67264, saving model to /content/drive/MyDrive/MLSP-1/model_cnn\n",
            "25/25 [==============================] - 10s 412ms/step - loss: 0.0869 - accuracy: 0.9762 - val_loss: 0.6726 - val_accuracy: 0.8300\n",
            "Epoch 9/16\n",
            "25/25 [==============================] - ETA: 0s - loss: 0.0366 - accuracy: 0.9887\n",
            "Epoch 9: val_loss did not improve from 0.67264\n",
            "25/25 [==============================] - 3s 109ms/step - loss: 0.0366 - accuracy: 0.9887 - val_loss: 0.7248 - val_accuracy: 0.8550\n",
            "Epoch 10/16\n",
            "25/25 [==============================] - ETA: 0s - loss: 0.0276 - accuracy: 0.9937\n",
            "Epoch 10: val_loss improved from 0.67264 to 0.62234, saving model to /content/drive/MyDrive/MLSP-1/model_cnn\n",
            "25/25 [==============================] - 10s 404ms/step - loss: 0.0276 - accuracy: 0.9937 - val_loss: 0.6223 - val_accuracy: 0.8750\n",
            "Epoch 11/16\n",
            "25/25 [==============================] - ETA: 0s - loss: 0.0250 - accuracy: 0.9950\n",
            "Epoch 11: val_loss did not improve from 0.62234\n",
            "25/25 [==============================] - 3s 109ms/step - loss: 0.0250 - accuracy: 0.9950 - val_loss: 0.7699 - val_accuracy: 0.8650\n",
            "Epoch 12/16\n",
            "25/25 [==============================] - ETA: 0s - loss: 0.0131 - accuracy: 0.9962\n",
            "Epoch 12: val_loss did not improve from 0.62234\n",
            "25/25 [==============================] - 3s 107ms/step - loss: 0.0131 - accuracy: 0.9962 - val_loss: 0.7711 - val_accuracy: 0.8600\n",
            "Epoch 13/16\n",
            "25/25 [==============================] - ETA: 0s - loss: 0.0139 - accuracy: 0.9937\n",
            "Epoch 13: val_loss did not improve from 0.62234\n",
            "25/25 [==============================] - 3s 108ms/step - loss: 0.0139 - accuracy: 0.9937 - val_loss: 0.9220 - val_accuracy: 0.8150\n",
            "Epoch 14/16\n",
            "25/25 [==============================] - ETA: 0s - loss: 0.0145 - accuracy: 0.9975\n",
            "Epoch 14: val_loss did not improve from 0.62234\n",
            "25/25 [==============================] - 3s 108ms/step - loss: 0.0145 - accuracy: 0.9975 - val_loss: 1.0181 - val_accuracy: 0.8050\n",
            "Epoch 15/16\n",
            "25/25 [==============================] - ETA: 0s - loss: 0.0052 - accuracy: 1.0000\n",
            "Epoch 15: val_loss did not improve from 0.62234\n",
            "25/25 [==============================] - 3s 108ms/step - loss: 0.0052 - accuracy: 1.0000 - val_loss: 0.9339 - val_accuracy: 0.8550\n",
            "Epoch 16/16\n",
            "25/25 [==============================] - ETA: 0s - loss: 0.0066 - accuracy: 0.9987\n",
            "Epoch 16: val_loss did not improve from 0.62234\n",
            "25/25 [==============================] - 3s 108ms/step - loss: 0.0066 - accuracy: 0.9987 - val_loss: 0.9549 - val_accuracy: 0.8500\n"
          ]
        }
      ]
    },
    {
      "cell_type": "code",
      "source": [
        "model.summary()"
      ],
      "metadata": {
        "id": "Sj3m7Urbh1C_",
        "colab": {
          "base_uri": "https://localhost:8080/"
        },
        "outputId": "a6e74db1-c642-487e-d667-f0d968c11a97"
      },
      "execution_count": 66,
      "outputs": [
        {
          "output_type": "stream",
          "name": "stdout",
          "text": [
            "Model: \"sequential_2\"\n",
            "_________________________________________________________________\n",
            " Layer (type)                Output Shape              Param #   \n",
            "=================================================================\n",
            " conv2d_3 (Conv2D)           (None, 124, 1020, 16)     416       \n",
            "                                                                 \n",
            " max_pooling2d_3 (MaxPooling  (None, 62, 510, 16)      0         \n",
            " 2D)                                                             \n",
            "                                                                 \n",
            " dropout_3 (Dropout)         (None, 62, 510, 16)       0         \n",
            "                                                                 \n",
            " conv2d_4 (Conv2D)           (None, 60, 508, 32)       4640      \n",
            "                                                                 \n",
            " max_pooling2d_4 (MaxPooling  (None, 30, 254, 32)      0         \n",
            " 2D)                                                             \n",
            "                                                                 \n",
            " dropout_4 (Dropout)         (None, 30, 254, 32)       0         \n",
            "                                                                 \n",
            " conv2d_5 (Conv2D)           (None, 28, 252, 64)       18496     \n",
            "                                                                 \n",
            " max_pooling2d_5 (MaxPooling  (None, 14, 126, 64)      0         \n",
            " 2D)                                                             \n",
            "                                                                 \n",
            " dropout_5 (Dropout)         (None, 14, 126, 64)       0         \n",
            "                                                                 \n",
            " flatten_2 (Flatten)         (None, 112896)            0         \n",
            "                                                                 \n",
            " dense_8 (Dense)             (None, 1024)              115606528 \n",
            "                                                                 \n",
            " dense_9 (Dense)             (None, 64)                65600     \n",
            "                                                                 \n",
            " dense_10 (Dense)            (None, 10)                650       \n",
            "                                                                 \n",
            "=================================================================\n",
            "Total params: 115,696,330\n",
            "Trainable params: 115,696,330\n",
            "Non-trainable params: 0\n",
            "_________________________________________________________________\n"
          ]
        }
      ]
    },
    {
      "cell_type": "code",
      "source": [
        "import matplotlib.pyplot as plt\n",
        "acc = history.history['accuracy']\n",
        "val_acc = history.history['val_accuracy']\n",
        "loss = history.history['loss']\n",
        "val_loss = history.history['val_loss']\n",
        "\n",
        "epochs = range(len(acc))\n",
        "\n",
        "plt.plot(epochs, loss, 'r', label='Training Loss')\n",
        "plt.plot(epochs, val_loss, 'b', label='Validation Loss')\n",
        "plt.title('Training and validation accuracy')\n",
        "plt.legend(loc=0)\n",
        "plt.figure()\n",
        "\n",
        "\n",
        "plt.show()"
      ],
      "metadata": {
        "colab": {
          "base_uri": "https://localhost:8080/",
          "height": 298
        },
        "id": "DwO08lrXnLzA",
        "outputId": "fd561353-7bab-4dd0-b98a-dd33d1b150fd"
      },
      "execution_count": 67,
      "outputs": [
        {
          "output_type": "display_data",
          "data": {
            "text/plain": [
              "<Figure size 432x288 with 1 Axes>"
            ],
            "image/png": "[encoded data removed]"
          },
          "metadata": {
            "needs_background": "light"
          }
        },
        {
          "output_type": "display_data",
          "data": {
            "text/plain": [
              "<Figure size 432x288 with 0 Axes>"
            ]
          },
          "metadata": {}
        }
      ]
    },
    {
      "cell_type": "markdown",
      "source": [
        "#Process Test Data"
      ],
      "metadata": {
        "id": "LeKhZM7kA4aC"
      }
    },
    {
      "cell_type": "code",
      "source": [
        "!unzip /content/drive/MyDrive/MLSP-1/test_1.zip -d '/content/test_1'"
      ],
      "metadata": {
        "id": "yxY3qJHLA7aY"
      },
      "execution_count": null,
      "outputs": []
    },
    {
      "cell_type": "code",
      "source": [
        "path_test='/content/test_1'"
      ],
      "metadata": {
        "id": "06TXnyJnCuFp"
      },
      "execution_count": 24,
      "outputs": []
    },
    {
      "cell_type": "code",
      "source": [
        "test_data = {}\n",
        "for fname in os.listdir(path_test):\n",
        "    test_data[fname]=(np.load(os.path.join(path_test, fname)))\n"
      ],
      "metadata": {
        "id": "p9vgdDvHA7-L"
      },
      "execution_count": 25,
      "outputs": []
    },
    {
      "cell_type": "code",
      "source": [
        "#resizing the 3rd dimension to 1024 for all samples\n",
        "resized_testdata={}\n",
        "for fname in os.listdir(path_test):\n",
        "    temp=test_data[fname][0]\n",
        "    temp=np.array(temp)\n",
        "    tup=temp.shape\n",
        "    #print(tup[1])\n",
        "    if(tup[1]>1024):                                        #clip the 3rd dimension if greater than 1024\n",
        "      resized_testdata[fname]=temp[:,0:1024]\n",
        "    else:\n",
        "      times=int(1024/tup[1])+1\n",
        "      temp_1=temp                                           #repeat the 3rd dimension if less than 1024, upto 1024\n",
        "      for i in range(times):\n",
        "        temp_1=np.concatenate([temp_1,temp],axis=1)\n",
        "      resized_testdata[fname]=temp_1[:,0:1024]\n",
        "    #print(resized_data[fname].shape)"
      ],
      "metadata": {
        "id": "I6dzcdjYA8eI"
      },
      "execution_count": 26,
      "outputs": []
    },
    {
      "cell_type": "code",
      "source": [
        "#preprocessing using MinMaxScaler\n",
        "\n",
        "from sklearn.preprocessing import MinMaxScaler\n",
        "scaler = MinMaxScaler(feature_range=(0, 1))\n",
        "\n",
        "normalized_test_data={}\n",
        "for fname in os.listdir(path_test):\n",
        "  scaler.fit(resized_testdata[fname])\n",
        "  normalized_test_data[fname] = scaler.transform(resized_testdata[fname])\n",
        "  #print(normalized_train_data[fname].shape)\n",
        "  #print(np.amax(normalized_train_data[fname]))"
      ],
      "metadata": {
        "id": "0w1OETLKDOlM"
      },
      "execution_count": 27,
      "outputs": []
    },
    {
      "cell_type": "code",
      "source": [
        "#create the dataset\n",
        "\n",
        "int_index=0\n",
        "dataset_test=[]\n",
        "#labels=[]\n",
        "for i in os.listdir(path_test):\n",
        "  #print(i)\n",
        "  dataset_test.append(normalized_test_data[i])\n",
        "  #labels.append(data_total[i])\n",
        "  int_index=int_index+1\n",
        "dataset_test=np.array(dataset_test)\n",
        "dataset_test.shape\n",
        "#print(dataset[0],labels[0])\n",
        "#print(normalized_train_data['57112910.npy'],data_total['57112910.npy'])"
      ],
      "metadata": {
        "colab": {
          "base_uri": "https://localhost:8080/"
        },
        "id": "Y1VwBWX7FFir",
        "outputId": "63dddab9-2e24-4011-a0bf-4b1ee29a8232"
      },
      "execution_count": 28,
      "outputs": [
        {
          "output_type": "execute_result",
          "data": {
            "text/plain": [
              "(201, 128, 1024)"
            ]
          },
          "metadata": {},
          "execution_count": 28
        }
      ]
    },
    {
      "cell_type": "markdown",
      "source": [
        "#Predictions of Test Data"
      ],
      "metadata": {
        "id": "n6WH5YmJhwCK"
      }
    },
    {
      "cell_type": "code",
      "source": [
        "model_saved = keras.models.load_model('/content/drive/MyDrive/MLSP-1/model_nn')"
      ],
      "metadata": {
        "id": "_HQRjgNAzIjy"
      },
      "execution_count": 72,
      "outputs": []
    },
    {
      "cell_type": "code",
      "source": [
        "predictions=model_saved.predict(dataset_test)"
      ],
      "metadata": {
        "id": "uCu_Ir5DDa0g"
      },
      "execution_count": 73,
      "outputs": []
    },
    {
      "cell_type": "code",
      "source": [
        "#convert from one-hot to label\n",
        "predictions_final=[]\n",
        "for i in range(predictions.shape[0]):\n",
        "  predictions_final.append(np.argmax(predictions[i]))\n",
        "#print(len(predictions_final))"
      ],
      "metadata": {
        "id": "c4iTZaMmNjnS"
      },
      "execution_count": 74,
      "outputs": []
    },
    {
      "cell_type": "code",
      "source": [
        "#make csv file\n",
        "np.savetxt(\"predic_nn_2.csv\",predictions_final,delimiter=\",\")"
      ],
      "metadata": {
        "id": "w-TPF9c4H7gM"
      },
      "execution_count": 75,
      "outputs": []
    },
    {
      "cell_type": "code",
      "source": [
        "#convert from one-hot to label\n",
        "y_test_final=[]\n",
        "for i in range(y_test.shape[0]):\n",
        "  y_test_final.append(np.argmax(y_test[i]))"
      ],
      "metadata": {
        "id": "BM43rr9KS311"
      },
      "execution_count": null,
      "outputs": []
    },
    {
      "cell_type": "code",
      "source": [
        "#to find TP, TN, FP,FN of different classes\n",
        "def confusion(predictions_final,Y_test):\n",
        "  confusion_arr=np.zeros((10,4),dtype=int) #TP FP TN FN\n",
        "  for c in range(10):\n",
        "    for i in range(len(predictions_final)):\n",
        "      label_true=Y_test[i]\n",
        "      pred=predictions_final[i]\n",
        "      if(label_true==c and pred==c):\n",
        "        confusion_arr[c][0]+=1 #TP\n",
        "      elif(pred==c):\n",
        "        confusion_arr[c][1]+=1 #FP\n",
        "      elif(label_true==c):\n",
        "        confusion_arr[c][3]+=1 #FN\n",
        "      else:\n",
        "        confusion_arr[c][2]+=1 #TN\n",
        "  return confusion_arr"
      ],
      "metadata": {
        "id": "HHHXlq7HMH9s"
      },
      "execution_count": null,
      "outputs": []
    },
    {
      "cell_type": "markdown",
      "source": [
        "###Calculate the Precision, Recall and F1 Score"
      ],
      "metadata": {
        "id": "3tXim8s8IiMH"
      }
    },
    {
      "cell_type": "code",
      "source": [
        "def p_r_f1(confusion_arr):\n",
        "  precision_arr=np.zeros(10)\n",
        "  recall_arr=np.zeros(10)\n",
        "  f1_arr=np.zeros(10);\n",
        "  for i in range(10):\n",
        "    precision_arr[i]=confusion_arr[i][0]/(confusion_arr[i][0] + confusion_arr[i][1])\n",
        "    recall_arr[i]=confusion_arr[i][0]/(confusion_arr[i][0] + confusion_arr[i][3])\n",
        "    f1_arr[i]=(2*precision_arr[i]*recall_arr[i])/(precision_arr[i]+recall_arr[i])\n",
        "  return precision_arr, recall_arr, f1_arr"
      ],
      "metadata": {
        "id": "BXpp7TfRMI2k"
      },
      "execution_count": null,
      "outputs": []
    },
    {
      "cell_type": "markdown",
      "source": [
        "###Confusion Matrix"
      ],
      "metadata": {
        "id": "dE-zFZsVIzQI"
      }
    },
    {
      "cell_type": "code",
      "source": [
        "##Create confusion matrix\n",
        "def conf(predictions_final,Y_test):\n",
        "  confusion_matrix=np.zeros((10,10),dtype=int)\n",
        "  for i in range(len(predictions_final)):\n",
        "    pre=predictions_final[i]\n",
        "    act=Y_test[i]\n",
        "    confusion_matrix[act][pre]+=1\n",
        "  np.savetxt(\"conf_matrix.csv\",confusion_matrix,delimiter=\",\")\n"
      ],
      "metadata": {
        "id": "IjWvH9AUIgYt"
      },
      "execution_count": null,
      "outputs": []
    },
    {
      "cell_type": "code",
      "source": [
        "confusion_arr=confusion(predictions_final,y_test_final)"
      ],
      "metadata": {
        "id": "OxD3r5JmMJCZ"
      },
      "execution_count": null,
      "outputs": []
    },
    {
      "cell_type": "code",
      "source": [
        "precision_arr, recall_arr, f1_arr=p_r_f1(confusion_arr)"
      ],
      "metadata": {
        "id": "PohqOcswMuDY"
      },
      "execution_count": null,
      "outputs": []
    },
    {
      "cell_type": "code",
      "source": [
        "print(precision_arr)"
      ],
      "metadata": {
        "id": "UBIzsTW8MuKN"
      },
      "execution_count": null,
      "outputs": []
    },
    {
      "cell_type": "code",
      "source": [
        "print(recall_arr)"
      ],
      "metadata": {
        "id": "M_q5dO_PMuP2"
      },
      "execution_count": null,
      "outputs": []
    },
    {
      "cell_type": "code",
      "source": [
        "f1_arr"
      ],
      "metadata": {
        "id": "k7Jgr-ppTuwv"
      },
      "execution_count": null,
      "outputs": []
    }
  ]
}